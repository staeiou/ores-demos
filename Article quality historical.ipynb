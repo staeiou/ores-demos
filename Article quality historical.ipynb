{
 "cells": [
  {
   "cell_type": "code",
   "execution_count": 1,
   "metadata": {},
   "outputs": [
    {
     "name": "stdout",
     "output_type": "stream",
     "text": [
      "Defaulting to user installation because normal site-packages is not writeable\n",
      "Requirement already satisfied: oresapi in /home/sgeiger/.local/lib/python3.9/site-packages (0.1.0)\n",
      "Requirement already satisfied: pandas in /opt/conda/lib/python3.9/site-packages (1.3.3)\n",
      "Requirement already satisfied: mwtypes in /home/sgeiger/.local/lib/python3.9/site-packages (0.3.2)\n",
      "Requirement already satisfied: mwapi in /home/sgeiger/.local/lib/python3.9/site-packages (0.5.1)\n",
      "Requirement already satisfied: more-itertools in /home/sgeiger/.local/lib/python3.9/site-packages (from oresapi) (8.10.0)\n",
      "Requirement already satisfied: requests in /opt/conda/lib/python3.9/site-packages (from oresapi) (2.26.0)\n",
      "Requirement already satisfied: pytz>=2017.3 in /opt/conda/lib/python3.9/site-packages (from pandas) (2021.1)\n",
      "Requirement already satisfied: numpy>=1.17.3 in /home/sgeiger/.local/lib/python3.9/site-packages (from pandas) (1.19.5)\n",
      "Requirement already satisfied: python-dateutil>=2.7.3 in /opt/conda/lib/python3.9/site-packages (from pandas) (2.8.2)\n",
      "Requirement already satisfied: six>=1.5 in /home/sgeiger/.local/lib/python3.9/site-packages (from python-dateutil>=2.7.3->pandas) (1.15.0)\n",
      "Requirement already satisfied: jsonable>=0.3.0 in /home/sgeiger/.local/lib/python3.9/site-packages (from mwtypes) (0.3.1)\n",
      "Requirement already satisfied: idna<4,>=2.5 in /opt/conda/lib/python3.9/site-packages (from requests->oresapi) (3.1)\n",
      "Requirement already satisfied: charset-normalizer~=2.0.0 in /opt/conda/lib/python3.9/site-packages (from requests->oresapi) (2.0.0)\n",
      "Requirement already satisfied: certifi>=2017.4.17 in /opt/conda/lib/python3.9/site-packages (from requests->oresapi) (2021.5.30)\n",
      "Requirement already satisfied: urllib3<1.27,>=1.21.1 in /opt/conda/lib/python3.9/site-packages (from requests->oresapi) (1.26.6)\n"
     ]
    }
   ],
   "source": [
    "%matplotlib inline\n",
    "!pip install oresapi pandas mwtypes mwapi"
   ]
  },
  {
   "cell_type": "code",
   "execution_count": 2,
   "metadata": {},
   "outputs": [],
   "source": [
    "import csv\n",
    "import json\n",
    "import time\n",
    "import sys\n",
    "\n",
    "import oresapi\n",
    "import mwapi\n",
    "import mwtypes\n",
    "import pandas"
   ]
  },
  {
   "cell_type": "markdown",
   "metadata": {},
   "source": [
    "# Getting an article quality prediction\n",
    "Article quality in Wikipedia is measured on an ordinal scale: Stub, Start, C, B, GA, FA where \"GA\" stands for \"Good Article\" and \"FA\" stands for \"Featured article\".  ORES provides an \"article quality\" model that you can use to get a prediction of where an article is on this scale.  For example, let's get a prediction for a [recent version](https://en.wikipedia.org/w/index.php?title=Ann_Bishop_(biologist%29&oldid=936742440) of the article about [Ann Bishop](https://en.wikipedia.org/wiki/Ann_Bishop_(biologist%29) -- a notable biologist.  "
   ]
  },
  {
   "cell_type": "code",
   "execution_count": 3,
   "metadata": {},
   "outputs": [
    {
     "data": {
      "text/plain": [
       "[{'articlequality': {'score': {'prediction': 'FA',\n",
       "    'probability': {'B': 0.042164244699203435,\n",
       "     'C': 0.021921980057550028,\n",
       "     'FA': 0.586778699843404,\n",
       "     'GA': 0.33866693096308614,\n",
       "     'Start': 0.007535970555858138,\n",
       "     'Stub': 0.0029321738808980656}}}}]"
      ]
     },
     "execution_count": 3,
     "metadata": {},
     "output_type": "execute_result"
    }
   ],
   "source": [
    "ua = \"sgeiger@ucsd.edu -- ORES overview -- Article Quality\"\n",
    "ores_session = oresapi.Session(\n",
    "    \"https://ores.wikimedia.org\",\n",
    "    user_agent=ua)\n",
    "list(ores_session.score('enwiki', ['articlequality'], 936742440))"
   ]
  },
  {
   "cell_type": "markdown",
   "metadata": {},
   "source": [
    "In the above output, we can see that ORES predicts that the article is of \"FA\" (Featured Article) status with high certainty (64%), but it might be \"GA\" (Good Article) status with lower certainty (29%).  \n",
    "\n",
    "Let's try answering a question.  Was the article about Ann Bishop the same quality level 3 years ago?    First, I need to find the most recent version of the article from a year ago.  I'll go to the [article's history page](https://en.wikipedia.org/w/index.php?title=Ann_Bishop_(biologist%29&action=history) to do that.  I found [a version of the article saved on Jan. 20, 2017](https://en.wikipedia.org/w/index.php?title=Ann_Bishop_(biologist%29&oldid=761065293) with the revision ID of 761065293.  Let's try that. "
   ]
  },
  {
   "cell_type": "code",
   "execution_count": 4,
   "metadata": {},
   "outputs": [
    {
     "data": {
      "text/plain": [
       "[{'articlequality': {'score': {'prediction': 'FA',\n",
       "    'probability': {'B': 0.03779869850962798,\n",
       "     'C': 0.02044421174899556,\n",
       "     'FA': 0.5984324889334588,\n",
       "     'GA': 0.3334796157125206,\n",
       "     'Start': 0.007067204099333244,\n",
       "     'Stub': 0.0027777809960638834}}}}]"
      ]
     },
     "execution_count": 4,
     "metadata": {},
     "output_type": "execute_result"
    }
   ],
   "source": [
    "ores_session = oresapi.Session(\n",
    "    \"https://ores.wikimedia.org\",\n",
    "    user_agent=ua)\n",
    "list(ores_session.score('enwiki', ['articlequality'], 761065293))"
   ]
  },
  {
   "cell_type": "markdown",
   "metadata": {},
   "source": [
    "We can see here that the differences are pretty minor.  The model still thinks this old version of the article was \"FA\" (64%) with a small possibility that it is \"GA\" (29%).  So when did it rise in quality?  To answer this question, we can use the MediaWiki API to get the full history of this article and ORES to score it. \n",
    "\n",
    "I'm going to define a few things here.  First, we're going to need a strategy for converting the quality prediction to a single number.  See the `score2sum` function below.  Then we're going to need to run a query for all of the version of the article using the MediaWiki API (and our convenient connector -- `mwapi`).   Finally, we'll gather scores for those versions of the article and plot them over time.  "
   ]
  },
  {
   "cell_type": "code",
   "execution_count": null,
   "metadata": {},
   "outputs": [],
   "source": []
  },
  {
   "cell_type": "code",
   "execution_count": 5,
   "metadata": {},
   "outputs": [],
   "source": [
    "WEIGHTS = {'Stub': 1, 'Start': 2, 'C': 3, 'B': 4, 'GA': 5, 'FA': 6}\n",
    "def score2sum(score_doc):\n",
    "    \"Converts an output from ORES articlequality prediction into a single value between 1 and 6.\"\n",
    "    if score_doc is None or 'probability' not in score_doc:\n",
    "        return None\n",
    "    weighted_sum = 0\n",
    "    for cl, proba in score_doc['probability'].items():\n",
    "        weighted_sum += WEIGHTS[cl] * proba\n",
    "    return weighted_sum"
   ]
  },
  {
   "cell_type": "code",
   "execution_count": 6,
   "metadata": {},
   "outputs": [],
   "source": [
    "session = mwapi.Session(\n",
    "    \"https://en.wikipedia.org\", \n",
    "    user_agent=ua)\n",
    "\n",
    "\n",
    "def fetch_history(page_title):\n",
    "    \"\"\"\n",
    "    Fetches all of the historical versions of a page based on its title. \n",
    "    \"\"\"\n",
    "    historical_versions = []\n",
    "    for response_doc in session.get(action='query', prop='revisions', titles=page_title, \n",
    "                                    rvprop=['ids', 'timestamp'], rvlimit=100, rvdir=\"newer\", \n",
    "                                    formatversion=2, continuation=True):\n",
    "        rev_docs = response_doc['query']['pages'][0]['revisions']\n",
    "        rev_ids = [d['revid'] for d in rev_docs]\n",
    "        for rev_doc in rev_docs:\n",
    "            rev_id = rev_doc['revid']\n",
    "            timestamp = mwtypes.Timestamp(rev_doc['timestamp'])\n",
    "            historical_versions.append({'rev_id': rev_id, 'timestamp': timestamp})\n",
    "            sys.stderr.write(\".\")\n",
    "            sys.stderr.flush()\n",
    "        sys.stderr.write(\"\\n\")\n",
    "    \n",
    "    return historical_versions\n"
   ]
  },
  {
   "cell_type": "code",
   "execution_count": 7,
   "metadata": {},
   "outputs": [],
   "source": [
    "def fetch_scores(revisions):\n",
    "    \"\"\"\n",
    "    Fetches scores for all revisions provided and adds a \"weighted_sum\" field with the processed score.\n",
    "    \"\"\"\n",
    "    scores = ores_session.score('enwiki', ['articlequality'], [r['rev_id'] for r in revisions])\n",
    "    for score, revision in zip(scores, revisions):\n",
    "        revision['weighted_sum'] = score2sum(score['articlequality']['score'])\n",
    "        sys.stderr.write(\"s\")\n",
    "        sys.stderr.flush()\n",
    "    sys.stderr.write(\"\\n\")\n",
    "    \n",
    "    return revisions"
   ]
  },
  {
   "cell_type": "code",
   "execution_count": 8,
   "metadata": {},
   "outputs": [
    {
     "name": "stderr",
     "output_type": "stream",
     "text": [
      "....................................................................................................\n",
      "....................................................................................................\n",
      "ssssssssssssssssssssssssssssssssssssssssssssssssssssssssssssssssssssssssssssssssssssssssssssssssssssssssssssssssssssssssssssssssssssssssssssssssssssssssssssssssssssssssssssssssssssssssssssssssssssssss\n"
     ]
    },
    {
     "data": {
      "text/html": [
       "<div>\n",
       "<style scoped>\n",
       "    .dataframe tbody tr th:only-of-type {\n",
       "        vertical-align: middle;\n",
       "    }\n",
       "\n",
       "    .dataframe tbody tr th {\n",
       "        vertical-align: top;\n",
       "    }\n",
       "\n",
       "    .dataframe thead th {\n",
       "        text-align: right;\n",
       "    }\n",
       "</style>\n",
       "<table border=\"1\" class=\"dataframe\">\n",
       "  <thead>\n",
       "    <tr style=\"text-align: right;\">\n",
       "      <th></th>\n",
       "      <th>rev_id</th>\n",
       "      <th>timestamp</th>\n",
       "      <th>weighted_sum</th>\n",
       "    </tr>\n",
       "  </thead>\n",
       "  <tbody>\n",
       "    <tr>\n",
       "      <th>0</th>\n",
       "      <td>518733419</td>\n",
       "      <td>2012-10-19T17:11:05Z</td>\n",
       "      <td>1.125604</td>\n",
       "    </tr>\n",
       "    <tr>\n",
       "      <th>1</th>\n",
       "      <td>518734596</td>\n",
       "      <td>2012-10-19T17:17:59Z</td>\n",
       "      <td>1.090219</td>\n",
       "    </tr>\n",
       "    <tr>\n",
       "      <th>2</th>\n",
       "      <td>518736839</td>\n",
       "      <td>2012-10-19T17:32:56Z</td>\n",
       "      <td>1.058468</td>\n",
       "    </tr>\n",
       "    <tr>\n",
       "      <th>3</th>\n",
       "      <td>518754699</td>\n",
       "      <td>2012-10-19T19:21:08Z</td>\n",
       "      <td>1.112842</td>\n",
       "    </tr>\n",
       "    <tr>\n",
       "      <th>4</th>\n",
       "      <td>518806920</td>\n",
       "      <td>2012-10-20T01:49:57Z</td>\n",
       "      <td>1.113717</td>\n",
       "    </tr>\n",
       "    <tr>\n",
       "      <th>5</th>\n",
       "      <td>518807910</td>\n",
       "      <td>2012-10-20T01:58:13Z</td>\n",
       "      <td>1.112365</td>\n",
       "    </tr>\n",
       "    <tr>\n",
       "      <th>6</th>\n",
       "      <td>518838758</td>\n",
       "      <td>2012-10-20T07:19:47Z</td>\n",
       "      <td>3.975944</td>\n",
       "    </tr>\n",
       "    <tr>\n",
       "      <th>7</th>\n",
       "      <td>518845800</td>\n",
       "      <td>2012-10-20T09:01:44Z</td>\n",
       "      <td>4.345031</td>\n",
       "    </tr>\n",
       "    <tr>\n",
       "      <th>8</th>\n",
       "      <td>518917922</td>\n",
       "      <td>2012-10-20T20:05:44Z</td>\n",
       "      <td>4.344580</td>\n",
       "    </tr>\n",
       "    <tr>\n",
       "      <th>9</th>\n",
       "      <td>518918001</td>\n",
       "      <td>2012-10-20T20:06:19Z</td>\n",
       "      <td>4.344580</td>\n",
       "    </tr>\n",
       "  </tbody>\n",
       "</table>\n",
       "</div>"
      ],
      "text/plain": [
       "      rev_id             timestamp  weighted_sum\n",
       "0  518733419  2012-10-19T17:11:05Z      1.125604\n",
       "1  518734596  2012-10-19T17:17:59Z      1.090219\n",
       "2  518736839  2012-10-19T17:32:56Z      1.058468\n",
       "3  518754699  2012-10-19T19:21:08Z      1.112842\n",
       "4  518806920  2012-10-20T01:49:57Z      1.113717\n",
       "5  518807910  2012-10-20T01:58:13Z      1.112365\n",
       "6  518838758  2012-10-20T07:19:47Z      3.975944\n",
       "7  518845800  2012-10-20T09:01:44Z      4.345031\n",
       "8  518917922  2012-10-20T20:05:44Z      4.344580\n",
       "9  518918001  2012-10-20T20:06:19Z      4.344580"
      ]
     },
     "execution_count": 8,
     "metadata": {},
     "output_type": "execute_result"
    }
   ],
   "source": [
    "historical_scores = pandas.DataFrame(fetch_scores(fetch_history(\"Ann Bishop (biologist)\")))\n",
    "historical_scores[:10]"
   ]
  },
  {
   "cell_type": "code",
   "execution_count": 9,
   "metadata": {},
   "outputs": [
    {
     "data": {
      "text/plain": [
       "<AxesSubplot:xlabel='time'>"
      ]
     },
     "execution_count": 9,
     "metadata": {},
     "output_type": "execute_result"
    },
    {
     "data": {
      "image/png": "[encoded data removed]",
      "text/plain": [
       "<Figure size 432x288 with 1 Axes>"
      ]
     },
     "metadata": {
      "needs_background": "light"
     },
     "output_type": "display_data"
    }
   ],
   "source": [
    "historical_scores['time'] =pandas.to_datetime(historical_scores.timestamp, format='%Y-%m-%dT%H:%M:%SZ',errors='ignore')\n",
    "historical_scores = historical_scores.set_index('time')\n",
    "historical_scores['weighted_sum'].plot()"
   ]
  },
  {
   "cell_type": "markdown",
   "metadata": {},
   "source": [
    "Cool.  It looks like the quality level of Ann Bishop came up really fast.  We can see in the output of the dataframe that there was one edit in particular where the quality jumped up in 2012.  Between [518807910 (2012-10-20T01:58:13Z)](https://en.wikipedia.org/wiki/Special:Diff/518807910) and [518838758 (2012-10-20T07:19:47Z)](https://en.wikipedia.org/wiki/Special:Diff/518838758), the quality jumped up from ~1.1 to ~4.2!  Check out [the edit that caused the change](https://en.wikipedia.org/wiki/Special:Diff/518838758).\n",
    "\n",
    "For fun, let's try a bigger article: [Ada Lovelace](https://en.wikipedia.org/wiki/Ada_Lovelace)"
   ]
  },
  {
   "cell_type": "code",
   "execution_count": 10,
   "metadata": {},
   "outputs": [
    {
     "name": "stderr",
     "output_type": "stream",
     "text": [
      "....................................................................................................\n",
      "....................................................................................................\n",
      "....................................................................................................\n",
      "....................................................................................................\n",
      "....................................................................................................\n",
      "....................................................................................................\n",
      "....................................................................................................\n",
      "....................................................................................................\n",
      "....................................................................................................\n",
      "....................................................................................................\n",
      "....................................................................................................\n",
      "....................................................................................................\n",
      "....................................................................................................\n",
      "....................................................................................................\n",
      "....................................................................................................\n",
      "....................................................................................................\n",
      "....................................................................................................\n",
      "....................................................................................................\n",
      "....................................................................................................\n",
      "....................................................................................................\n",
      "....................................................................................................\n",
      "....................................................................................................\n",
      "....................................................................................................\n",
      "....................................................................................................\n",
      "....................................................................................................\n",
      "....................................................................................................\n",
      "....................................................................................................\n",
      "....................................................................................................\n",
      "....................................................................................................\n",
      "....................................................................................................\n",
      "....................................................................................................\n",
      "....................................................................................................\n",
      "....................................................................................................\n",
      "....................................................................................................\n",
      "....................................................................................................\n",
      "....................................................................................................\n",
      "....................................................................................................\n",
      "....................................................................................................\n",
      "....................................................................................................\n",
      "....................................................................................................\n",
      "....................................................................................................\n",
      "....................................................................................................\n",
      "....................................................................................................\n",
      "....................................................................................................\n",
      "....................................................................................................\n",
      "....................................................................................................\n",
      "....................................................................................................\n",
      "....................................................................................................\n",
      "....................................................................................................\n",
      "....................................................................................................\n",
      "....................................................................................................\n",
      ".........\n",
      "ssssssssssssssssssssssssssssssssssssssssssssssssssssssssssssssssssssssssssssssssssssssssssssssssssssssssssssssssssssssssssssssssssssssssssssssssssssssssssssssssssssssssssssssssssssssssssssssssssssssssssssssssssssssssssssssssssssssssssssssssssssssssssssssssssssssssssssssssssssssssssssssssssssssssssssssssssssssssssssssssssssssssssssssssssssssssssssssssssssssssssssssssssssssssssssssssssssssssssssssssssssssssssssssssssssssssssssssssssssssssssssssssssssssssssssssssssssssssssssssssssssssssssssssssssssssssssssssssssssssssssssssssssssssssssssssssssssssssssssssssssssssssssssssssssssssssssssssssssssssssssssssssssssssssssssssssssssssssssssssssssssssssssssssssssssssssssssssssssssssssssssssssssssssssssssssssssssssssssssssssssssssssssssssssssssssssssssssssssssssssssssssssssssssssssssssssssssssssssssssssssssssssssssssssssssssssssssssssssssssssssssssssssssssssssssssssssssssssssssssssssssssssssssssssssssssssssssssssssssssssssssssssssssssssssssssssssssssssssssssssssssssssssssssssssssssssssssssssssssssssssssssssssssssssssssssssssssssssssssssssssssssssssssssssssssssssssssssssssssssssssssssssssssssssssssssssssssssssssssssssssssssssssssssssssssssssssssssssssssssssssssssssssssssssssssssssssssssssssssssssssssssssssssssssssssssssssssssssssssssssssssssssssssssssssssssssssssssssssssssssssssssssssssssssssssssssssssssssssssssssssssssssssssssssssssssssssssssssssssssssssssssssssssssssssssssssssssssssssssssssssssssssssssssssssssssssssssssssssssssssssssssssssssssssssssssssssssssssssssssssssssssssssssssssssssssssssssssssssssssssssssssssssssssssssssssssssssssssssssssssssssssssssssssssssssssssssssssssssssssssssssssssssssssssssssssssssssssssssssssssssssssssssssssssssssssssssssssssssssssssssssssssssssssssssssssssssssssssssssssssssssssssssssssssssssssssssssssssssssssssssssssssssssssssssssssssssssssssssssssssssssssssssssssssssssssssssssssssssssssssssssssssssssssssssssssssssssssssssssssssssssssssssssssssssssssssssssssssssssssssssssssssssssssssssssssssssssssssssssssssssssssssssssssssssssssssssssssssssssssssssssssssssssssssssssssssssssssssssssssssssssssssssssssssssssssssssssssssssssssssssssssssssssssssssssssssssssssssssssssssssssssssssssssssssssssssssssssssssssssssssssssssssssssssssssssssssssssssssssssssssssssssssssssssssssssssssssssssssssssssssssssssssssssssssssssssssssssssssssssssssssssssssssssssssssssssssssssssssssssssssssssssssssssssssssssssssssssssssssssssssssssssssssssssssssssssssssssssssssssssssssssssssssssssssssssssssssssssssssssssssssssssssssssssssssssssssssssssssssssssssssssssssssssssssssssssssssssssssssssssssssssssssssssssssssssssssssssssssssssssssssssssssssssssssssssssssssssssssssssssssssssssssssssssssssssssssssssssssssssssssssssssssssssssssssssssssssssssssssssssssssssssssssssssssssssssssssssssssssssssssssssssssssssssssssssssssssssssssssssssssssssssssssssssssssssssssssssssssssssssssssssssssssssssssssssssssssssssssssssssssssssssssssssssssssssssssssssssssssssssssssssssssssssssssssssssssssssssssssssssssssssssssssssssssssssssssssssssssssssssssssssssssssssssssssssssssssssssssssssssssssssssssssssssssssssssssssssssssssssssssssssssssssssssssssssssssssssssssssssssIOPub message rate exceeded.\n",
      "The notebook server will temporarily stop sending output\n",
      "to the client in order to avoid crashing it.\n",
      "To change this limit, set the config variable\n",
      "`--NotebookApp.iopub_msg_rate_limit`.\n",
      "\n",
      "Current values:\n",
      "NotebookApp.iopub_msg_rate_limit=1000.0 (msgs/sec)\n",
      "NotebookApp.rate_limit_window=3.0 (secs)\n",
      "\n",
      "sssssssssssssssssssssssssssssssssssssssssssssssssssssssssssssssssssssssssssssssssssssssssssssssssssssssssssssssssssssssssssssssssssssssssssssssssssssssssssssssssssssssssssssssssssssssssssssssssssssssssssssssssssssssssssssssssssssssssssssssssssssssssssssssssssssssssssssssssssssssssssssssssssssssssssssssssssssssssssssssssssssssssssssssssssssssssssssssssssssssssssssssssssssssssssssssssssssssssssssssssssssssssssssssssssssssssssssssssssssssssssssssssssssssssssssssssssssssssssssssssssssssssssssssssssssssssssssssssssssssssssssssssssssssssssssssssssssssssssssssssssssssssssssssssssssssssssssssssssssssssssssssssssssssssssssssssssssssssssssssssssssssssssssssssssssssssssssssssssssssssssssssssssssssssssssssssssssssssssssssssssssssssssssssssssssssssssssssssssssssssssssssssssssssssssssssssssssssssssssssssssssssssssssssssssssssssssssssssssssssssssssssssssssssssssssssssssssssssssssssssssssssssssssssssssssssssssssssssssssssssssssssssssssssssssssssssssssssssssssssssssssssssssssssssssssssssssssssssssssssssssssssssssssssssssssssssssssssssssssssssssssssssssssssssssssssssssssssssssssssssssssssssssssssssssssssssssssssssssssss\n"
     ]
    }
   ],
   "source": [
    "historical_scores2 = pandas.DataFrame(fetch_scores(fetch_history(\"Ada Lovelace\")))"
   ]
  },
  {
   "cell_type": "code",
   "execution_count": 11,
   "metadata": {},
   "outputs": [
    {
     "data": {
      "text/plain": [
       "<AxesSubplot:xlabel='time'>"
      ]
     },
     "execution_count": 11,
     "metadata": {},
     "output_type": "execute_result"
    },
    {
     "data": {
      "image/png": "[encoded data removed]",
      "text/plain": [
       "<Figure size 432x288 with 1 Axes>"
      ]
     },
     "metadata": {
      "needs_background": "light"
     },
     "output_type": "display_data"
    }
   ],
   "source": [
    "historical_scores2['time'] =pandas.to_datetime(historical_scores2.timestamp, format='%Y-%m-%dT%H:%M:%SZ',errors='ignore')\n",
    "historical_scores2 = historical_scores2.set_index('time')\n",
    "historical_scores2['weighted_sum'].plot()"
   ]
  },
  {
   "cell_type": "markdown",
   "metadata": {},
   "source": [
    "Interestingly, we can see some dips in the quality of Ada Lovelace.  I wonder what's going on there."
   ]
  },
  {
   "cell_type": "code",
   "execution_count": 12,
   "metadata": {},
   "outputs": [
    {
     "data": {
      "text/html": [
       "<div>\n",
       "<style scoped>\n",
       "    .dataframe tbody tr th:only-of-type {\n",
       "        vertical-align: middle;\n",
       "    }\n",
       "\n",
       "    .dataframe tbody tr th {\n",
       "        vertical-align: top;\n",
       "    }\n",
       "\n",
       "    .dataframe thead th {\n",
       "        text-align: right;\n",
       "    }\n",
       "</style>\n",
       "<table border=\"1\" class=\"dataframe\">\n",
       "  <thead>\n",
       "    <tr style=\"text-align: right;\">\n",
       "      <th></th>\n",
       "      <th>rev_id</th>\n",
       "      <th>timestamp</th>\n",
       "      <th>weighted_sum</th>\n",
       "    </tr>\n",
       "    <tr>\n",
       "      <th>time</th>\n",
       "      <th></th>\n",
       "      <th></th>\n",
       "      <th></th>\n",
       "    </tr>\n",
       "  </thead>\n",
       "  <tbody>\n",
       "    <tr>\n",
       "      <th>2005-02-07 08:11:08</th>\n",
       "      <td>10281789</td>\n",
       "      <td>2005-02-07T08:11:08Z</td>\n",
       "      <td>2.987285</td>\n",
       "    </tr>\n",
       "    <tr>\n",
       "      <th>2005-02-15 07:23:52</th>\n",
       "      <td>10557076</td>\n",
       "      <td>2005-02-15T07:23:52Z</td>\n",
       "      <td>2.994299</td>\n",
       "    </tr>\n",
       "    <tr>\n",
       "      <th>2005-02-25 09:20:03</th>\n",
       "      <td>10617475</td>\n",
       "      <td>2005-02-25T09:20:03Z</td>\n",
       "      <td>2.981951</td>\n",
       "    </tr>\n",
       "    <tr>\n",
       "      <th>2005-02-27 16:52:02</th>\n",
       "      <td>10742628</td>\n",
       "      <td>2005-02-27T16:52:02Z</td>\n",
       "      <td>2.981951</td>\n",
       "    </tr>\n",
       "    <tr>\n",
       "      <th>2005-03-03 22:03:17</th>\n",
       "      <td>10871556</td>\n",
       "      <td>2005-03-03T22:03:17Z</td>\n",
       "      <td>2.969195</td>\n",
       "    </tr>\n",
       "    <tr>\n",
       "      <th>...</th>\n",
       "      <td>...</td>\n",
       "      <td>...</td>\n",
       "      <td>...</td>\n",
       "    </tr>\n",
       "    <tr>\n",
       "      <th>2018-10-27 21:42:52</th>\n",
       "      <td>866039453</td>\n",
       "      <td>2018-10-27T21:42:52Z</td>\n",
       "      <td>1.598783</td>\n",
       "    </tr>\n",
       "    <tr>\n",
       "      <th>2018-11-01 14:13:19</th>\n",
       "      <td>866779266</td>\n",
       "      <td>2018-11-01T14:13:19Z</td>\n",
       "      <td>1.598495</td>\n",
       "    </tr>\n",
       "    <tr>\n",
       "      <th>2018-11-01 14:17:39</th>\n",
       "      <td>866779754</td>\n",
       "      <td>2018-11-01T14:17:39Z</td>\n",
       "      <td>1.598495</td>\n",
       "    </tr>\n",
       "    <tr>\n",
       "      <th>2021-02-23 06:56:24</th>\n",
       "      <td>1008423923</td>\n",
       "      <td>2021-02-23T06:56:24Z</td>\n",
       "      <td>2.618224</td>\n",
       "    </tr>\n",
       "    <tr>\n",
       "      <th>2021-04-25 12:56:51</th>\n",
       "      <td>1019793282</td>\n",
       "      <td>2021-04-25T12:56:51Z</td>\n",
       "      <td>2.763833</td>\n",
       "    </tr>\n",
       "  </tbody>\n",
       "</table>\n",
       "<p>78 rows × 3 columns</p>\n",
       "</div>"
      ],
      "text/plain": [
       "                         rev_id             timestamp  weighted_sum\n",
       "time                                                               \n",
       "2005-02-07 08:11:08    10281789  2005-02-07T08:11:08Z      2.987285\n",
       "2005-02-15 07:23:52    10557076  2005-02-15T07:23:52Z      2.994299\n",
       "2005-02-25 09:20:03    10617475  2005-02-25T09:20:03Z      2.981951\n",
       "2005-02-27 16:52:02    10742628  2005-02-27T16:52:02Z      2.981951\n",
       "2005-03-03 22:03:17    10871556  2005-03-03T22:03:17Z      2.969195\n",
       "...                         ...                   ...           ...\n",
       "2018-10-27 21:42:52   866039453  2018-10-27T21:42:52Z      1.598783\n",
       "2018-11-01 14:13:19   866779266  2018-11-01T14:13:19Z      1.598495\n",
       "2018-11-01 14:17:39   866779754  2018-11-01T14:17:39Z      1.598495\n",
       "2021-02-23 06:56:24  1008423923  2021-02-23T06:56:24Z      2.618224\n",
       "2021-04-25 12:56:51  1019793282  2021-04-25T12:56:51Z      2.763833\n",
       "\n",
       "[78 rows x 3 columns]"
      ]
     },
     "execution_count": 12,
     "metadata": {},
     "output_type": "execute_result"
    }
   ],
   "source": [
    "historical_scores2[\n",
    "    (historical_scores2['timestamp'] >= mwtypes.Timestamp('2005-01-01T00:00:00Z')) & \n",
    "    (historical_scores2['weighted_sum'] < 3)]"
   ]
  },
  {
   "cell_type": "markdown",
   "metadata": {},
   "source": [
    "I wonder what happened in these edits.  Picking from the top few, let's look at [20232247](https://en.wikipedia.org/wiki/Special:Diff/20232247), [22607614](https://en.wikipedia.org/wiki/Special:Diff/22607614), and [28917096](https://en.wikipedia.org/wiki/Special:Diff/28917096).  ...and they are all vandalism.  "
   ]
  },
  {
   "cell_type": "code",
   "execution_count": null,
   "metadata": {},
   "outputs": [],
   "source": []
  }
 ],
 "metadata": {
  "kernelspec": {
   "display_name": "Python 3 (ipykernel)",
   "language": "python",
   "name": "python3"
  },
  "language_info": {
   "codemirror_mode": {
    "name": "ipython",
    "version": 3
   },
   "file_extension": ".py",
   "mimetype": "text/x-python",
   "name": "python",
   "nbconvert_exporter": "python",
   "pygments_lexer": "ipython3",
   "version": "3.9.5"
  }
 },
 "nbformat": 4,
 "nbformat_minor": 2
}
